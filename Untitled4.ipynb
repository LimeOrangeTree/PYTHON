{
 "cells": [
  {
   "cell_type": "code",
   "execution_count": 1,
   "metadata": {},
   "outputs": [
    {
     "name": "stdout",
     "output_type": "stream",
     "text": [
      "      age     city        born        died\n",
      "kim    50    seoul  1970-01-01  2015-12-30\n",
      "lee    40  daejeon  1980-02-02  2018-09-09\n",
      "park   30     jeju  1990-03-03  2017-06-07\n"
     ]
    }
   ],
   "source": [
    "import pandas as pd\n",
    "d1=pd.DataFrame({\n",
    "    'name':['kim','lee','park'],\n",
    "    'city':['seoul','daejeon','jeju'],\n",
    "    'born':['1970-01-01','1980-02-02','1990-03-03'],\n",
    "    'died':['2015-12-30','2018-09-09','2017-06-07'],\n",
    "    'age':[50,40,30]\n",
    "},index=['kim','lee','park'],columns=['age','city','born','died']\n",
    ")\n",
    "print(d1)"
   ]
  },
  {
   "cell_type": "code",
   "execution_count": 2,
   "metadata": {},
   "outputs": [
    {
     "name": "stdout",
     "output_type": "stream",
     "text": [
      "      age                   city                            born  \\\n",
      "kim   150        seoulseoulseoul  1970-01-011970-01-011970-01-01   \n",
      "lee   120  daejeondaejeondaejeon  1980-02-021980-02-021980-02-02   \n",
      "park   90           jejujejujeju  1990-03-031990-03-031990-03-03   \n",
      "\n",
      "                                died  \n",
      "kim   2015-12-302015-12-302015-12-30  \n",
      "lee   2018-09-092018-09-092018-09-09  \n",
      "park  2017-06-072017-06-072017-06-07  \n"
     ]
    }
   ],
   "source": [
    "print(d1*3)"
   ]
  },
  {
   "cell_type": "code",
   "execution_count": null,
   "metadata": {},
   "outputs": [],
   "source": []
  }
 ],
 "metadata": {
  "kernelspec": {
   "display_name": "Python 3",
   "language": "python",
   "name": "python3"
  },
  "language_info": {
   "codemirror_mode": {
    "name": "ipython",
    "version": 3
   },
   "file_extension": ".py",
   "mimetype": "text/x-python",
   "name": "python",
   "nbconvert_exporter": "python",
   "pygments_lexer": "ipython3",
   "version": "3.6.5"
  }
 },
 "nbformat": 4,
 "nbformat_minor": 2
}
